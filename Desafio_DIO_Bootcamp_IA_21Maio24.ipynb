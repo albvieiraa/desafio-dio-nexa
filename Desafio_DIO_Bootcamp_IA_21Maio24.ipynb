{
  "nbformat": 4,
  "nbformat_minor": 0,
  "metadata": {
    "colab": {
      "provenance": [],
      "authorship_tag": "ABX9TyO0cIwfqCUbh7308DMO1FoL",
      "include_colab_link": true
    },
    "kernelspec": {
      "name": "python3",
      "display_name": "Python 3"
    },
    "language_info": {
      "name": "python"
    }
  },
  "cells": [
    {
      "cell_type": "markdown",
      "metadata": {
        "id": "view-in-github",
        "colab_type": "text"
      },
      "source": [
        "<a href=\"https://colab.research.google.com/github/albvieiraa/desafio-dio-nexa/blob/main/Desafio_DIO_Bootcamp_IA_21Maio24.ipynb\" target=\"_parent\"><img src=\"https://colab.research.google.com/assets/colab-badge.svg\" alt=\"Open In Colab\"/></a>"
      ]
    },
    {
      "cell_type": "markdown",
      "source": [
        "# **Desafio**\n",
        "\n",
        "Faça um programa que calcule e imprima o salário a ser transferido para um funcionário.\n",
        "\n",
        "Para realizar o calculo, receba o valor bruto do salário e o adicional dos benefícios.\n",
        "O salário a ser transferido é calculado da seguinte maneira:\n",
        "(valor bruto do salário - percentual de imposto mediante ao salário) + adicional dos benefícios.\n",
        "\n",
        "Para calcular o percentual de imposto segue as aliquotas:\n",
        "  De 0.00 a 1100.00 reais = 5%\n",
        "  De 1100.01 a 2500.00 reais = 10%\n",
        "  Maior de 2500.00 reais = 15%\n",
        "\n",
        "Entrada: 2000.00 reais - Saida: 2050.00\n",
        "          250.00 reais"
      ],
      "metadata": {
        "id": "CM4GfT8uTG59"
      }
    },
    {
      "cell_type": "code",
      "execution_count": 3,
      "metadata": {
        "colab": {
          "base_uri": "https://localhost:8080/"
        },
        "id": "zBdvg-MpS8p3",
        "outputId": "0ba53590-9771-4ced-920c-c55a8cb500b9"
      },
      "outputs": [
        {
          "output_type": "stream",
          "name": "stdout",
          "text": [
            "Valor do salário: 2000\n",
            "Valor do benefício: 250\n",
            "2050.00\n"
          ]
        }
      ],
      "source": [
        "# função útil para o calculo de imposto (baseado nas aliquotas)\n",
        "def calcular_imposto(salario):\n",
        "  aliquota = 0.00\n",
        "  if (salario >= 0 and salario <=1100):\n",
        "    aliquota = 0.05\n",
        "  elif (salario >=1100.01 and salario <= 2500.00):\n",
        "    aliquota = 0.10\n",
        "  else:\n",
        "    aliquota = 0.15\n",
        "  return aliquota * salario\n",
        "\n",
        "#lê os valores de entrada\n",
        "valor_salario = float(input('Valor do salário: '))\n",
        "valor_beneficios = float(input('Valor do benefício: '))\n",
        "\n",
        "#calcular o imposto através da função \"calcular_imposto\"\n",
        "valor_imposto = calcular_imposto(valor_salario)\n",
        "\n",
        "#calcular e imprimir a saída (2 valores decimais)\n",
        "saida = valor_salario - valor_imposto + valor_beneficios\n",
        "print(f'{saida:.2f}')"
      ]
    }
  ]
}